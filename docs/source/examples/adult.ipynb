{
 "cells": [
  {
   "cell_type": "markdown",
   "metadata": {
    "collapsed": false,
    "jupyter": {
     "outputs_hidden": false
    }
   },
   "source": [
    "# Adult - Bias\n",
    "This notebook computes the gender bias of scores developed the on the adult dataset.\n",
    "It using different bias metrics."
   ]
  },
  {
   "cell_type": "code",
   "execution_count": 1,
   "metadata": {
    "collapsed": false,
    "jupyter": {
     "outputs_hidden": false
    }
   },
   "outputs": [],
   "source": [
    "import pandas as pd\n",
    "from sklearn.preprocessing import OrdinalEncoder, MinMaxScaler, LabelEncoder\n",
    "from sklearn.model_selection import train_test_split, cross_val_score, KFold\n",
    "from sklearn.metrics import roc_auc_score\n",
    "from sklearn.linear_model import LogisticRegression\n",
    "import xgboost as xgb\n",
    "\n",
    "from fairscoring.metrics import bias_pe, bias_eo, bias_cal, WassersteinMetric, CalibrationMetric\n",
    "from fairscoring.metrics.roc import bias_roc, bias_xroc\n",
    "\n",
    "from tqdm.notebook import tqdm"
   ]
  },
  {
   "cell_type": "code",
   "execution_count": 2,
   "metadata": {
    "collapsed": false,
    "jupyter": {
     "outputs_hidden": false
    }
   },
   "outputs": [],
   "source": [
    "from warnings import simplefilter\n",
    "# ignore all future warnings\n",
    "simplefilter(action='ignore', category=FutureWarning)"
   ]
  },
  {
   "cell_type": "markdown",
   "metadata": {
    "collapsed": false,
    "jupyter": {
     "outputs_hidden": false
    }
   },
   "source": [
    "## Load and pre-process data\n",
    "### Load Adult data"
   ]
  },
  {
   "cell_type": "code",
   "execution_count": 3,
   "metadata": {
    "collapsed": false,
    "jupyter": {
     "outputs_hidden": false
    }
   },
   "outputs": [],
   "source": [
    "feature_names=['age', 'workclass', 'fnlwgt', 'education', 'education_num', 'marital_status', 'occupation', 'relationship', 'race', 'sex', 'capital_gain', 'capital_loss', 'hours_per_week', 'native_country', 'income']"
   ]
  },
  {
   "cell_type": "code",
   "execution_count": 4,
   "metadata": {
    "collapsed": false,
    "jupyter": {
     "outputs_hidden": false
    }
   },
   "outputs": [],
   "source": [
    "dataURL = 'https://archive.ics.uci.edu/ml/machine-learning-databases/adult/adult.data'\n",
    "df = pd.read_csv(dataURL, delimiter=', ',header=None, names=feature_names, engine=\"python\")"
   ]
  },
  {
   "cell_type": "markdown",
   "metadata": {
    "collapsed": false,
    "jupyter": {
     "outputs_hidden": false
    }
   },
   "source": [
    "### Feature Engineering"
   ]
  },
  {
   "cell_type": "code",
   "execution_count": 5,
   "metadata": {
    "collapsed": false,
    "jupyter": {
     "outputs_hidden": false
    }
   },
   "outputs": [],
   "source": [
    "df['native_country_bin']=df['native_country']=='United-States'"
   ]
  },
  {
   "cell_type": "code",
   "execution_count": 6,
   "metadata": {
    "collapsed": false,
    "jupyter": {
     "outputs_hidden": false
    }
   },
   "outputs": [],
   "source": [
    "num_features=['age', 'capital_gain', 'capital_loss','hours_per_week', 'education_num']\n",
    "cat_features=['workclass', 'education', 'marital_status', 'occupation', 'race', 'sex', 'native_country_bin'] #'relationship'"
   ]
  },
  {
   "cell_type": "code",
   "execution_count": 7,
   "metadata": {
    "collapsed": false,
    "jupyter": {
     "outputs_hidden": false
    }
   },
   "outputs": [],
   "source": [
    "df=df.replace({'workclass' : { '?' : 'Other/Unknown', 'Federal-gov' : 'Government', 'Local-gov' : 'Government', 'Never-worked': 'Other/Unknown', 'Private': 'Private', 'Self-emp-inc':  'Self-emp',                                 'Self-emp-not-inc': 'Self-emp', 'State-gov':'Government', 'Without-pay':'Other/Unknown'},\n",
    "               'education' : {'10th': '1-12th', '11th': '1-12th', '12th': '1-12th', '1st-4th': '1-12th', '5th-6th': '1-12th', '7th-8th': '1-12th', '9th': '1-12th',\n",
    "                              'Assoc-acdm': 'Assoc', 'Assoc-voc': 'Assoc', 'Bachelors': 'University/College', 'Doctorate': 'University/College', 'HS-grad': 'HS-grad', 'Masters': 'University/College', 'Preschool': '1-12th', 'Prof-school': 'University/College' ,'Some-college': 'University/College'},\n",
    "               'marital_status': {'Married-AF-spouse': 'Married', 'Married-civ-spouse': 'Married', 'Married-spouse-absent': 'Married', 'Divorced': 'Div/Sep/Wid', 'Separated':  'Div/Sep/Wid',                      'Widowed': 'Div/Sep/Wid'},\n",
    "               'relationship': {'Husband': 'Spouse/Partner', 'Wife': 'Spouse/Partner', 'Unmarried': 'Unmarried'},\n",
    "               'occupation': {'Adm-clerical': 'White-Collar', 'Craft-repair': 'Blue-Collar', 'Exec-managerial': 'White-Collar', 'Farming-fishing': 'Blue-Collar', 'Handlers-cleaners': 'Blue-Collar',               'Machine-op-inspct': 'Blue-Collar', 'Other-service': 'Service', 'Priv-house-serv': 'Service', 'Prof-specialty': 'Professional',\n",
    "                              'Protective-serv': 'Service', 'Tech-support': 'Service', 'Transport-moving': 'Blue-Collar', '?': 'Other/Unknown', 'Armed-Forces': 'Other/Unknown'}\n",
    "              })"
   ]
  },
  {
   "cell_type": "markdown",
   "metadata": {
    "collapsed": false,
    "jupyter": {
     "outputs_hidden": false
    }
   },
   "source": [
    "### Encoding"
   ]
  },
  {
   "cell_type": "code",
   "execution_count": 8,
   "metadata": {
    "collapsed": false,
    "jupyter": {
     "outputs_hidden": false
    }
   },
   "outputs": [],
   "source": [
    "# Store gener column\n",
    "gender_column = df[\"sex\"].copy()\n",
    "\n",
    "ordinal_enc = OrdinalEncoder().fit(df[cat_features])\n",
    "df[cat_features]=ordinal_enc.transform(df[cat_features])\n",
    "df[cat_features]=df[cat_features].astype(int)\n",
    "\n",
    "# Undo Encoding gender\n",
    "df[\"sex\"] = gender_column"
   ]
  },
  {
   "cell_type": "code",
   "execution_count": 9,
   "metadata": {
    "collapsed": false,
    "jupyter": {
     "outputs_hidden": false
    }
   },
   "outputs": [],
   "source": [
    "categorical=pd.get_dummies(df[cat_features].astype(str))\n",
    "numerical=MinMaxScaler().fit_transform(df[num_features])"
   ]
  },
  {
   "cell_type": "code",
   "execution_count": 10,
   "metadata": {
    "collapsed": false,
    "jupyter": {
     "outputs_hidden": false
    }
   },
   "outputs": [],
   "source": [
    "encoder = LabelEncoder()\n",
    "target=encoder.fit_transform(df['income'])"
   ]
  },
  {
   "cell_type": "markdown",
   "metadata": {
    "collapsed": false,
    "jupyter": {
     "outputs_hidden": false
    }
   },
   "source": [
    "## Training\n",
    "### Train-Test Split"
   ]
  },
  {
   "cell_type": "code",
   "execution_count": 11,
   "metadata": {
    "collapsed": false,
    "jupyter": {
     "outputs_hidden": false
    }
   },
   "outputs": [],
   "source": [
    "log_reg_data = pd.concat([pd.DataFrame(categorical), pd.DataFrame(numerical)], axis=1)\n",
    "log_reg_data = log_reg_data.rename(columns={0: 'age', 1: 'capital_gain', 2: 'capital_loss', 3: 'hours_per_week', 4: 'education_num'})"
   ]
  },
  {
   "cell_type": "code",
   "execution_count": 12,
   "metadata": {
    "collapsed": false,
    "jupyter": {
     "outputs_hidden": false
    }
   },
   "outputs": [],
   "source": [
    "X_train, X_test, y_train, y_test = train_test_split(log_reg_data, target, test_size=0.3, random_state=43)"
   ]
  },
  {
   "cell_type": "markdown",
   "metadata": {
    "collapsed": false,
    "jupyter": {
     "outputs_hidden": false
    }
   },
   "source": [
    "### Train LogReg Model\n",
    "#### Cross-Validation to check for stability"
   ]
  },
  {
   "cell_type": "code",
   "execution_count": 13,
   "metadata": {
    "collapsed": false,
    "jupyter": {
     "outputs_hidden": false
    }
   },
   "outputs": [
    {
     "name": "stdout",
     "output_type": "stream",
     "text": [
      "\n",
      "ROC AUC values for 5-fold Cross Validation:\n",
      " [0.90249847 0.89177676 0.8820583  0.89022666 0.8969462 ]\n",
      "\n",
      "Standard Deviation of ROC AUC of the models: 0.007\n",
      "\n",
      "Final Average ROC AUC of the model: 0.893\n"
     ]
    }
   ],
   "source": [
    "shuffle = KFold(n_splits=5, shuffle=True, random_state=2579)\n",
    "logreg = LogisticRegression(max_iter=1000)\n",
    "ROC_Values=cross_val_score(logreg, X_train , y_train, cv=shuffle, scoring=\"roc_auc\")\n",
    "\n",
    "print('\\nROC AUC values for 5-fold Cross Validation:\\n',ROC_Values)\n",
    "print('\\nStandard Deviation of ROC AUC of the models:', round(ROC_Values.std(),3))\n",
    "print('\\nFinal Average ROC AUC of the model:', round(ROC_Values.mean(),3))"
   ]
  },
  {
   "cell_type": "markdown",
   "metadata": {
    "collapsed": false,
    "jupyter": {
     "outputs_hidden": false
    }
   },
   "source": [
    "#### Final Model"
   ]
  },
  {
   "cell_type": "code",
   "execution_count": 14,
   "metadata": {
    "collapsed": false,
    "jupyter": {
     "outputs_hidden": false
    }
   },
   "outputs": [
    {
     "name": "stdout",
     "output_type": "stream",
     "text": [
      "The ROC-AUC of the Logistic Regression is 0.8975588173788007\n",
      "The train-ROC-AUC of the Logistic Regression is 0.8942243079704495\n"
     ]
    }
   ],
   "source": [
    "logreg.fit(X_train, y_train)\n",
    "\n",
    "y_pred = logreg.predict_proba(X_test)[:,1]\n",
    "y_pred_train = logreg.predict_proba(X_train)[:,1]\n",
    "\n",
    "roc_score_logreg = roc_auc_score(y_test, y_pred)\n",
    "roc_score_logreg_train = roc_auc_score(y_train, y_pred_train)\n",
    "\n",
    "print('The ROC-AUC of the Logistic Regression is', roc_score_logreg)\n",
    "print('The train-ROC-AUC of the Logistic Regression is', roc_score_logreg_train)"
   ]
  },
  {
   "cell_type": "markdown",
   "metadata": {
    "collapsed": false,
    "jupyter": {
     "outputs_hidden": false
    }
   },
   "source": [
    "### Train debiased LogReg Model\n",
    "#### Remove Gender Information"
   ]
  },
  {
   "cell_type": "code",
   "execution_count": 15,
   "metadata": {
    "collapsed": false,
    "jupyter": {
     "outputs_hidden": false
    }
   },
   "outputs": [
    {
     "data": {
      "text/plain": "Index(['sex_Female', 'sex_Male'], dtype='object')"
     },
     "execution_count": 15,
     "metadata": {},
     "output_type": "execute_result"
    }
   ],
   "source": [
    "X_train.columns[[22,23]]"
   ]
  },
  {
   "cell_type": "code",
   "execution_count": 16,
   "metadata": {
    "collapsed": false,
    "jupyter": {
     "outputs_hidden": false
    }
   },
   "outputs": [],
   "source": [
    "X_train_wosex = X_train.drop(X_train.columns[[22,23]], axis=1)\n",
    "X_test_wosex = X_test.drop(X_train.columns[[22,23]], axis=1)"
   ]
  },
  {
   "cell_type": "markdown",
   "metadata": {
    "collapsed": false,
    "jupyter": {
     "outputs_hidden": false
    }
   },
   "source": [
    "#### Cross-Validation to check for stability"
   ]
  },
  {
   "cell_type": "code",
   "execution_count": 17,
   "metadata": {
    "collapsed": false,
    "jupyter": {
     "outputs_hidden": false
    }
   },
   "outputs": [
    {
     "name": "stdout",
     "output_type": "stream",
     "text": [
      "\n",
      "ROC AUC values for 5-fold Cross Validation:\n",
      " [0.90207961 0.89145549 0.88137445 0.88927664 0.89602997]\n",
      "\n",
      "Standard Deviation of ROC AUC of the models: 0.007\n",
      "\n",
      "Final Average ROC AUC of the model: 0.892\n"
     ]
    }
   ],
   "source": [
    "shuffle = KFold(n_splits=5, shuffle=True, random_state=2579)\n",
    "logreg_wosex = LogisticRegression(max_iter=1000)\n",
    "ROC_Values=cross_val_score(logreg_wosex, X_train_wosex, y_train, cv=shuffle, scoring=\"roc_auc\")\n",
    "\n",
    "print('\\nROC AUC values for 5-fold Cross Validation:\\n',ROC_Values)\n",
    "print('\\nStandard Deviation of ROC AUC of the models:', round(ROC_Values.std(),3))\n",
    "print('\\nFinal Average ROC AUC of the model:', round(ROC_Values.mean(),3))"
   ]
  },
  {
   "cell_type": "markdown",
   "metadata": {
    "collapsed": false,
    "jupyter": {
     "outputs_hidden": false
    }
   },
   "source": [
    "#### Final Model"
   ]
  },
  {
   "cell_type": "code",
   "execution_count": 18,
   "metadata": {
    "collapsed": false,
    "jupyter": {
     "outputs_hidden": false
    }
   },
   "outputs": [
    {
     "name": "stdout",
     "output_type": "stream",
     "text": [
      "The ROC-AUC of the Logistic Regression is 0.8968531931820867\n",
      "The train-ROC-AUC of the Logistic Regression is 0.8935059284878036\n"
     ]
    }
   ],
   "source": [
    "logreg_wosex = LogisticRegression(max_iter=1000)\n",
    "logreg_wosex.fit(X_train_wosex, y_train)\n",
    "\n",
    "y_pred_wosex = logreg_wosex.predict_proba(X_test_wosex)[:,1]\n",
    "y_pred_train_wosex = logreg_wosex.predict_proba(X_train_wosex)[:,1]\n",
    "\n",
    "roc_score_logreg_wosex = roc_auc_score(y_test, y_pred_wosex)\n",
    "roc_score_logreg_wosex_train = roc_auc_score(y_train, y_pred_train_wosex)\n",
    "\n",
    "print('The ROC-AUC of the Logistic Regression is', roc_score_logreg_wosex)\n",
    "print('The train-ROC-AUC of the Logistic Regression is', roc_score_logreg_wosex_train)"
   ]
  },
  {
   "cell_type": "markdown",
   "metadata": {
    "collapsed": false,
    "jupyter": {
     "outputs_hidden": false
    }
   },
   "source": [
    "### Train XGBoost Model\n",
    "#### Cross-Validation to check for stability"
   ]
  },
  {
   "cell_type": "code",
   "execution_count": 19,
   "metadata": {
    "collapsed": false,
    "jupyter": {
     "outputs_hidden": false
    }
   },
   "outputs": [
    {
     "name": "stdout",
     "output_type": "stream",
     "text": [
      "\n",
      "ROC AUC values for 5-fold Cross Validation:\n",
      " [0.92175832 0.9203497  0.91333443 0.91947067 0.92419827]\n",
      "\n",
      "Standard Deviation of ROC AUC of the models: 0.004\n",
      "\n",
      "Final Average ROC AUC of the model: 0.92\n"
     ]
    }
   ],
   "source": [
    "shuffle = KFold(n_splits=5, shuffle=True, random_state=2579)\n",
    "xgb_model = xgb.XGBClassifier()\n",
    "ROC_Values=cross_val_score(xgb_model, X_train , y_train, cv=shuffle, scoring=\"roc_auc\")\n",
    "\n",
    "print('\\nROC AUC values for 5-fold Cross Validation:\\n',ROC_Values)\n",
    "print('\\nStandard Deviation of ROC AUC of the models:', round(ROC_Values.std(),3))\n",
    "print('\\nFinal Average ROC AUC of the model:', round(ROC_Values.mean(),3))"
   ]
  },
  {
   "cell_type": "markdown",
   "metadata": {
    "collapsed": false,
    "jupyter": {
     "outputs_hidden": false
    }
   },
   "source": [
    "#### Final Model"
   ]
  },
  {
   "cell_type": "code",
   "execution_count": 20,
   "metadata": {
    "collapsed": false,
    "jupyter": {
     "outputs_hidden": false
    }
   },
   "outputs": [
    {
     "name": "stdout",
     "output_type": "stream",
     "text": [
      "The ROC-AUC of the Logistic Regression is 0.9221733121562541\n",
      "The train-ROC-AUC of the Logistic Regression is 0.9495695617402895\n"
     ]
    }
   ],
   "source": [
    "xgb_model.fit(X_train, y_train)\n",
    "\n",
    "y_pred_xgb = xgb_model.predict_proba(X_test)[:,1]\n",
    "y_pred_train_xgb = xgb_model.predict_proba(X_train)[:,1]\n",
    "\n",
    "\n",
    "roc_score_xgb = roc_auc_score(y_test, y_pred_xgb)\n",
    "roc_score_xgb_train = roc_auc_score(y_train, y_pred_train_xgb)\n",
    "\n",
    "print('The ROC-AUC of the Logistic Regression is', roc_score_xgb)\n",
    "print('The train-ROC-AUC of the Logistic Regression is', roc_score_xgb_train)"
   ]
  },
  {
   "cell_type": "markdown",
   "metadata": {
    "collapsed": false,
    "jupyter": {
     "outputs_hidden": false
    }
   },
   "source": [
    "## Bias Measures\n",
    "### Prepare Dataset"
   ]
  },
  {
   "cell_type": "code",
   "execution_count": 21,
   "metadata": {
    "collapsed": false,
    "jupyter": {
     "outputs_hidden": false
    }
   },
   "outputs": [],
   "source": [
    "attribute = df.loc[X_test.index,\"sex\"]\n",
    "\n",
    "groups = ['Female', 'Male']\n",
    "\n",
    "favorable_target = encoder.transform([\">50K\"])[0]\n",
    "\n",
    "models = [\n",
    "    (\"LogReg\", y_pred),\n",
    "    (\"LogReg (debiased)\", y_pred_wosex),\n",
    "    (\"XGBoost\", y_pred_xgb)\n",
    "]"
   ]
  },
  {
   "cell_type": "markdown",
   "metadata": {
    "collapsed": false,
    "jupyter": {
     "outputs_hidden": false
    }
   },
   "source": [
    "### List of bias metrics"
   ]
  },
  {
   "cell_type": "code",
   "execution_count": 22,
   "metadata": {
    "collapsed": false,
    "jupyter": {
     "outputs_hidden": false
    }
   },
   "outputs": [],
   "source": [
    "metrics = [\n",
    "    bias_eo,     # Standardized Equal Opportunity\n",
    "    bias_pe,     # Standardized Predictive Equality\n",
    "    bias_cal,    # Standardized Calibration Equality\n",
    "    bias_roc,    # ROC-Bias\n",
    "    bias_xroc,   # xROC-Bias\n",
    "    WassersteinMetric(fairness_type=\"EO\",name=\"Equal Opportunity (U)\", score_transform=\"rescale\"),\n",
    "    WassersteinMetric(fairness_type=\"PE\",name=\"Predictive Equality (U)\", score_transform=\"rescale\"),\n",
    "    CalibrationMetric(weighting=\"scores\",name=\"Calibration (U)\", score_transform=\"rescale\"),\n",
    "]"
   ]
  },
  {
   "cell_type": "markdown",
   "metadata": {
    "collapsed": false,
    "jupyter": {
     "outputs_hidden": false
    }
   },
   "source": [
    "### Compute Bias Metrics\n",
    "Compute all bias metrics for the dataset"
   ]
  },
  {
   "cell_type": "code",
   "execution_count": 23,
   "metadata": {
    "collapsed": false,
    "jupyter": {
     "outputs_hidden": false
    }
   },
   "outputs": [
    {
     "data": {
      "text/plain": "  0%|          | 0/8 [00:00<?, ?it/s]",
      "application/vnd.jupyter.widget-view+json": {
       "version_major": 2,
       "version_minor": 0,
       "model_id": "9d0daee7eda64df084f15fcdda29ae12"
      }
     },
     "metadata": {},
     "output_type": "display_data"
    }
   ],
   "source": [
    "results = []\n",
    "for metric in tqdm(metrics):\n",
    "    for model, scores in models:\n",
    "        # Compute bias\n",
    "        bias = metric.bias(\n",
    "            scores, y_test, attribute,\n",
    "            groups=groups,\n",
    "            favorable_target=favorable_target,\n",
    "            min_score=0, max_score=1,\n",
    "            n_permute=1000, seed=2579)\n",
    "\n",
    "        # Store result\n",
    "        results.append((metric, model, bias))"
   ]
  },
  {
   "cell_type": "markdown",
   "metadata": {
    "collapsed": false,
    "jupyter": {
     "outputs_hidden": false
    }
   },
   "source": [
    "### Result Table\n",
    "This corresponds to table 3 in the publication."
   ]
  },
  {
   "cell_type": "code",
   "execution_count": 24,
   "metadata": {
    "collapsed": false,
    "jupyter": {
     "outputs_hidden": false
    }
   },
   "outputs": [],
   "source": [
    "# Models vertically arranged\n",
    "results = [[\n",
    "    metric.name,\n",
    "    model,\n",
    "    f\"{bias.bias:.3f}\",\n",
    "    f\"{100*bias.pos_component:.0f}%\",\n",
    "    f\"{100*bias.neg_component:.0f}%\",\n",
    "    f\"{bias.p_value:.2f}\" ] for metric, model, bias in results\n",
    "]\n",
    "\n",
    "df_v = pd.DataFrame(results, columns=[\"metric\", \"model\", \"total\", \"pos\", \"neg\", \"p-value\"])\n",
    "df_v.set_index([\"metric\", \"model\"], inplace=True)"
   ]
  },
  {
   "cell_type": "code",
   "execution_count": 25,
   "metadata": {
    "collapsed": false,
    "jupyter": {
     "outputs_hidden": false
    }
   },
   "outputs": [
    {
     "data": {
      "text/plain": "                        LogReg                    LogReg (debiased)       \\\n                         total  pos   neg p-value             total  pos   \nMetric                                                                     \nEqual Opportunity        0.107   0%  100%    0.00             0.069   0%   \nPredictive Equality      0.164   0%  100%    0.00             0.121   0%   \nCalibration              0.052  22%   78%    0.00             0.045  55%   \nROC bias                 0.050  98%    2%    0.00             0.051  98%   \nxROC bias                0.205   0%  100%    0.00             0.151   0%   \nEqual Opportunity (U)    0.161   0%  100%    0.00             0.104   0%   \nPredictive Equality (U)  0.118   0%  100%    0.00             0.098   0%   \nCalibration (U)          0.105  20%   80%    0.00             0.102  50%   \n\n                                      XGBoost                     \n                          neg p-value   total  pos   neg p-value  \nMetric                                                            \nEqual Opportunity        100%    0.00   0.057   1%   99%    0.00  \nPredictive Equality      100%    0.00   0.143   0%  100%    0.00  \nCalibration               45%    0.01   0.050  52%   48%    0.00  \nROC bias                   2%    0.00   0.033  98%    2%    0.00  \nxROC bias                100%    0.00   0.129   0%  100%    0.00  \nEqual Opportunity (U)    100%    0.00   0.087   0%  100%    0.00  \nPredictive Equality (U)  100%    0.00   0.101   0%  100%    0.00  \nCalibration (U)           50%    0.00   0.138  62%   38%    0.00  ",
      "text/html": "<div>\n<style scoped>\n    .dataframe tbody tr th:only-of-type {\n        vertical-align: middle;\n    }\n\n    .dataframe tbody tr th {\n        vertical-align: top;\n    }\n\n    .dataframe thead tr th {\n        text-align: left;\n    }\n\n    .dataframe thead tr:last-of-type th {\n        text-align: right;\n    }\n</style>\n<table border=\"1\" class=\"dataframe\">\n  <thead>\n    <tr>\n      <th></th>\n      <th colspan=\"4\" halign=\"left\">LogReg</th>\n      <th colspan=\"4\" halign=\"left\">LogReg (debiased)</th>\n      <th colspan=\"4\" halign=\"left\">XGBoost</th>\n    </tr>\n    <tr>\n      <th></th>\n      <th>total</th>\n      <th>pos</th>\n      <th>neg</th>\n      <th>p-value</th>\n      <th>total</th>\n      <th>pos</th>\n      <th>neg</th>\n      <th>p-value</th>\n      <th>total</th>\n      <th>pos</th>\n      <th>neg</th>\n      <th>p-value</th>\n    </tr>\n    <tr>\n      <th>Metric</th>\n      <th></th>\n      <th></th>\n      <th></th>\n      <th></th>\n      <th></th>\n      <th></th>\n      <th></th>\n      <th></th>\n      <th></th>\n      <th></th>\n      <th></th>\n      <th></th>\n    </tr>\n  </thead>\n  <tbody>\n    <tr>\n      <th>Equal Opportunity</th>\n      <td>0.107</td>\n      <td>0%</td>\n      <td>100%</td>\n      <td>0.00</td>\n      <td>0.069</td>\n      <td>0%</td>\n      <td>100%</td>\n      <td>0.00</td>\n      <td>0.057</td>\n      <td>1%</td>\n      <td>99%</td>\n      <td>0.00</td>\n    </tr>\n    <tr>\n      <th>Predictive Equality</th>\n      <td>0.164</td>\n      <td>0%</td>\n      <td>100%</td>\n      <td>0.00</td>\n      <td>0.121</td>\n      <td>0%</td>\n      <td>100%</td>\n      <td>0.00</td>\n      <td>0.143</td>\n      <td>0%</td>\n      <td>100%</td>\n      <td>0.00</td>\n    </tr>\n    <tr>\n      <th>Calibration</th>\n      <td>0.052</td>\n      <td>22%</td>\n      <td>78%</td>\n      <td>0.00</td>\n      <td>0.045</td>\n      <td>55%</td>\n      <td>45%</td>\n      <td>0.01</td>\n      <td>0.050</td>\n      <td>52%</td>\n      <td>48%</td>\n      <td>0.00</td>\n    </tr>\n    <tr>\n      <th>ROC bias</th>\n      <td>0.050</td>\n      <td>98%</td>\n      <td>2%</td>\n      <td>0.00</td>\n      <td>0.051</td>\n      <td>98%</td>\n      <td>2%</td>\n      <td>0.00</td>\n      <td>0.033</td>\n      <td>98%</td>\n      <td>2%</td>\n      <td>0.00</td>\n    </tr>\n    <tr>\n      <th>xROC bias</th>\n      <td>0.205</td>\n      <td>0%</td>\n      <td>100%</td>\n      <td>0.00</td>\n      <td>0.151</td>\n      <td>0%</td>\n      <td>100%</td>\n      <td>0.00</td>\n      <td>0.129</td>\n      <td>0%</td>\n      <td>100%</td>\n      <td>0.00</td>\n    </tr>\n    <tr>\n      <th>Equal Opportunity (U)</th>\n      <td>0.161</td>\n      <td>0%</td>\n      <td>100%</td>\n      <td>0.00</td>\n      <td>0.104</td>\n      <td>0%</td>\n      <td>100%</td>\n      <td>0.00</td>\n      <td>0.087</td>\n      <td>0%</td>\n      <td>100%</td>\n      <td>0.00</td>\n    </tr>\n    <tr>\n      <th>Predictive Equality (U)</th>\n      <td>0.118</td>\n      <td>0%</td>\n      <td>100%</td>\n      <td>0.00</td>\n      <td>0.098</td>\n      <td>0%</td>\n      <td>100%</td>\n      <td>0.00</td>\n      <td>0.101</td>\n      <td>0%</td>\n      <td>100%</td>\n      <td>0.00</td>\n    </tr>\n    <tr>\n      <th>Calibration (U)</th>\n      <td>0.105</td>\n      <td>20%</td>\n      <td>80%</td>\n      <td>0.00</td>\n      <td>0.102</td>\n      <td>50%</td>\n      <td>50%</td>\n      <td>0.00</td>\n      <td>0.138</td>\n      <td>62%</td>\n      <td>38%</td>\n      <td>0.00</td>\n    </tr>\n  </tbody>\n</table>\n</div>"
     },
     "execution_count": 25,
     "metadata": {},
     "output_type": "execute_result"
    }
   ],
   "source": [
    "# Models horizontally arranged\n",
    "model_names = [name for name, _ in models]\n",
    "\n",
    "blocks = [df_v[df_v.index.get_level_values(1) == name] for name in model_names]\n",
    "\n",
    "for i in range(len(blocks)):\n",
    "    blocks[i].set_index(blocks[i].index.droplevel(\"model\"))\n",
    "    blocks[i] = blocks[i].reset_index()\n",
    "    blocks[i].drop(\"model\", axis=1, inplace=True)\n",
    "    if i == 0:\n",
    "        metric_col = blocks[i][\"metric\"]\n",
    "    blocks[i].drop(\"metric\", axis=1, inplace=True)\n",
    "\n",
    "df_h = pd.concat([metric_col] + blocks, axis=1, keys=[\"\"]+model_names)\n",
    "df_h.set_index(df_h.columns[0],inplace=True)\n",
    "df_h.index.names = [\"Metric\"]\n",
    "df_h"
   ]
  },
  {
   "cell_type": "code",
   "execution_count": 25,
   "outputs": [],
   "source": [],
   "metadata": {
    "collapsed": false
   }
  }
 ],
 "metadata": {
  "kernelspec": {
   "display_name": "Python 3 (ipykernel)",
   "language": "python",
   "name": "python3"
  },
  "language_info": {
   "codemirror_mode": {
    "name": "ipython",
    "version": 3
   },
   "file_extension": ".py",
   "mimetype": "text/x-python",
   "name": "python",
   "nbconvert_exporter": "python",
   "pygments_lexer": "ipython3",
   "version": "3.10.13"
  }
 },
 "nbformat": 4,
 "nbformat_minor": 4
}
